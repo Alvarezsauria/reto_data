{
 "cells": [
  {
   "cell_type": "markdown",
   "id": "bridal-theory",
   "metadata": {},
   "source": [
    "It has been gived to us the **general** price for E10 and SP98\n",
    "- E10 is sold for 1,38€/liter\n",
    "- SP98 is sold for 1,46€\n",
    "\n",
    "However, as we want to do a real comparison and get to know which one do we should use, could be interesting know the **current price of each one in Spain.**"
   ]
  },
  {
   "cell_type": "code",
   "execution_count": 54,
   "id": "changed-columbus",
   "metadata": {},
   "outputs": [],
   "source": [
    "# import libraries\n",
    "import requests\n",
    "from bs4 import BeautifulSoup\n",
    "import pandas as pd\n",
    "from urllib.request import urlopen\n",
    "import re\n",
    "import seaborn as sns\n",
    "import matplotlib.pyplot as plt"
   ]
  },
  {
   "cell_type": "code",
   "execution_count": 25,
   "id": "faced-recipe",
   "metadata": {},
   "outputs": [],
   "source": [
    "def gasoil(url):\n",
    "    response = requests.get(url)\n",
    "    soup = BeautifulSoup(response.content,\"html.parser\")\n",
    "    scrap = soup.find_all(\"table\", {'class':'panel tabla_precio_hoy' })\n",
    "    price = [s.getText().split() for s in scrap]\n",
    "    # getting the mean, min and max prices for this gasoil\n",
    "    medio = price[0][3]\n",
    "    minimo = price[0][4]\n",
    "    maximo = price[0][5]\n",
    "\n",
    "    return list((re.findall('\\d+\\.\\d+', medio), re.findall('\\d+\\.\\d+', minimo), re.findall('\\d+\\.\\d+', maximo)))\n"
   ]
  },
  {
   "cell_type": "markdown",
   "id": "spare-collapse",
   "metadata": {},
   "source": [
    "## Prices for SP98"
   ]
  },
  {
   "cell_type": "code",
   "execution_count": 27,
   "id": "ongoing-investing",
   "metadata": {},
   "outputs": [
    {
     "name": "stdout",
     "output_type": "stream",
     "text": [
      "Mean price today is ['1.537']\n",
      "Min price today is ['1.188']\n",
      "Max price today is ['1.643']\n"
     ]
    }
   ],
   "source": [
    "SP98 = gasoil(url = 'https://www.clickgasoil.com/c/precio-gasolina-98')\n",
    "print('Mean price today is', SP98[0])\n",
    "print('Min price today is', SP98[1])\n",
    "print('Max price today is', SP98[2])"
   ]
  },
  {
   "cell_type": "markdown",
   "id": "received-georgia",
   "metadata": {},
   "source": [
    "## Prices for E10"
   ]
  },
  {
   "cell_type": "code",
   "execution_count": 28,
   "id": "attended-chile",
   "metadata": {},
   "outputs": [
    {
     "name": "stdout",
     "output_type": "stream",
     "text": [
      "Mean price today is ['1.378']\n",
      "Min price today is ['1.081']\n",
      "Max price today is ['1.49']\n"
     ]
    }
   ],
   "source": [
    "E10 = gasoil(url = 'https://www.clickgasoil.com/c/precio-gasolina-95')\n",
    "print('Mean price today is', E10[0])\n",
    "print('Min price today is', E10[1])\n",
    "print('Max price today is', E10[2])"
   ]
  },
  {
   "cell_type": "markdown",
   "id": "systematic-recipe",
   "metadata": {},
   "source": [
    "# Comparative of consume and current prices"
   ]
  },
  {
   "cell_type": "code",
   "execution_count": 29,
   "id": "egyptian-spouse",
   "metadata": {},
   "outputs": [],
   "source": [
    "df = pd.read_csv('df_clean.csv')\n",
    "means = df.groupby('gas_type').mean()"
   ]
  },
  {
   "cell_type": "code",
   "execution_count": 44,
   "id": "standard-january",
   "metadata": {},
   "outputs": [],
   "source": [
    "mean_E10 = round((means.consume[0])*float(E10[0][0]),2)\n",
    "min_E10 = round((means.consume[0])*float(E10[1][0]),2)\n",
    "max_E10 = round((means.consume[0])*float(E10[2][0]),2)\n",
    "mean_SP98 = round((means.consume[0])*float(SP98[0][0]),2)\n",
    "min_SP98 = round((means.consume[0])*float(SP98[1][0]),2)\n",
    "max_SP98 = round((means.consume[0])*float(SP98[2][0]),2)"
   ]
  },
  {
   "cell_type": "code",
   "execution_count": 45,
   "id": "pediatric-business",
   "metadata": {},
   "outputs": [
    {
     "name": "stdout",
     "output_type": "stream",
     "text": [
      "Mean consume with E10 price today is 6.8\n",
      "Min  consume with E10 price today is 5.33\n",
      "Max  consume with E10 price today is 7.35\n",
      "Mean consume with SP98 price today is 7.58\n",
      "Min  consume with SP98 price today is 5.86\n",
      "Max  consume with SP98 price today is 8.1\n"
     ]
    }
   ],
   "source": [
    "print('Mean consume with E10 price today is', mean_E10)\n",
    "print('Min  consume with E10 price today is', min_E10)\n",
    "print('Max  consume with E10 price today is', max_E10)\n",
    "print('Mean consume with SP98 price today is', mean_SP98)\n",
    "print('Min  consume with SP98 price today is', min_SP98)\n",
    "print('Max  consume with SP98 price today is', max_SP98)"
   ]
  },
  {
   "cell_type": "code",
   "execution_count": 55,
   "id": "french-inclusion",
   "metadata": {},
   "outputs": [],
   "source": [
    "details = {\n",
    "    'gas type': ['E10', 'SP98'],\n",
    "    'min': [min_E10, min_SP98],\n",
    "    'mean': [mean_E10, mean_SP98],\n",
    "    'max': [max_E10, max_SP98]\n",
    "}  "
   ]
  },
  {
   "cell_type": "code",
   "execution_count": 70,
   "id": "educated-cursor",
   "metadata": {},
   "outputs": [
    {
     "data": {
      "text/html": [
       "<div>\n",
       "<style scoped>\n",
       "    .dataframe tbody tr th:only-of-type {\n",
       "        vertical-align: middle;\n",
       "    }\n",
       "\n",
       "    .dataframe tbody tr th {\n",
       "        vertical-align: top;\n",
       "    }\n",
       "\n",
       "    .dataframe thead th {\n",
       "        text-align: right;\n",
       "    }\n",
       "</style>\n",
       "<table border=\"1\" class=\"dataframe\">\n",
       "  <thead>\n",
       "    <tr style=\"text-align: right;\">\n",
       "      <th></th>\n",
       "      <th>gas type</th>\n",
       "      <th>min</th>\n",
       "      <th>mean</th>\n",
       "      <th>max</th>\n",
       "    </tr>\n",
       "  </thead>\n",
       "  <tbody>\n",
       "    <tr>\n",
       "      <th>0</th>\n",
       "      <td>E10</td>\n",
       "      <td>5.33</td>\n",
       "      <td>6.80</td>\n",
       "      <td>7.35</td>\n",
       "    </tr>\n",
       "    <tr>\n",
       "      <th>1</th>\n",
       "      <td>SP98</td>\n",
       "      <td>5.86</td>\n",
       "      <td>7.58</td>\n",
       "      <td>8.10</td>\n",
       "    </tr>\n",
       "  </tbody>\n",
       "</table>\n",
       "</div>"
      ],
      "text/plain": [
       "  gas type   min  mean   max\n",
       "0      E10  5.33  6.80  7.35\n",
       "1     SP98  5.86  7.58  8.10"
      ]
     },
     "execution_count": 70,
     "metadata": {},
     "output_type": "execute_result"
    }
   ],
   "source": [
    "gas = pd.DataFrame(details)\n",
    "gas"
   ]
  },
  {
   "cell_type": "code",
   "execution_count": 80,
   "id": "individual-timber",
   "metadata": {},
   "outputs": [
    {
     "name": "stdout",
     "output_type": "stream",
     "text": [
      "0.1 0.11 0.1\n"
     ]
    }
   ],
   "source": [
    "dif_min = round((min_SP98/min_E10)-1, 2)\n",
    "dif_mean = round((mean_SP98/mean_E10)-1, 2)\n",
    "dif_max = round((max_SP98/max_E10)-1, 2)\n",
    "print(dif_min, dif_mean, dif_max)"
   ]
  },
  {
   "cell_type": "markdown",
   "id": "offensive-gates",
   "metadata": {},
   "source": [
    "# In all cases price/consume of E10 is lower.\n",
    "# SP98 increases price in, at least, a 10% respect to the E10\n",
    "# We recomend to use E10"
   ]
  }
 ],
 "metadata": {
  "kernelspec": {
   "display_name": "Python 3",
   "language": "python",
   "name": "python3"
  },
  "language_info": {
   "codemirror_mode": {
    "name": "ipython",
    "version": 3
   },
   "file_extension": ".py",
   "mimetype": "text/x-python",
   "name": "python",
   "nbconvert_exporter": "python",
   "pygments_lexer": "ipython3",
   "version": "3.8.2"
  }
 },
 "nbformat": 4,
 "nbformat_minor": 5
}
