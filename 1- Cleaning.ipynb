{
 "cells": [
  {
   "cell_type": "code",
   "execution_count": 53,
   "id": "static-stake",
   "metadata": {},
   "outputs": [],
   "source": [
    "# import libraries\n",
    "import pandas as pd"
   ]
  },
  {
   "cell_type": "code",
   "execution_count": 54,
   "id": "lasting-petite",
   "metadata": {},
   "outputs": [
    {
     "data": {
      "text/html": [
       "<div>\n",
       "<style scoped>\n",
       "    .dataframe tbody tr th:only-of-type {\n",
       "        vertical-align: middle;\n",
       "    }\n",
       "\n",
       "    .dataframe tbody tr th {\n",
       "        vertical-align: top;\n",
       "    }\n",
       "\n",
       "    .dataframe thead th {\n",
       "        text-align: right;\n",
       "    }\n",
       "</style>\n",
       "<table border=\"1\" class=\"dataframe\">\n",
       "  <thead>\n",
       "    <tr style=\"text-align: right;\">\n",
       "      <th></th>\n",
       "      <th>distance</th>\n",
       "      <th>consume</th>\n",
       "      <th>speed</th>\n",
       "      <th>temp_inside</th>\n",
       "      <th>temp_outside</th>\n",
       "      <th>specials</th>\n",
       "      <th>gas_type</th>\n",
       "      <th>AC</th>\n",
       "      <th>rain</th>\n",
       "      <th>sun</th>\n",
       "      <th>refill liters</th>\n",
       "      <th>refill gas</th>\n",
       "    </tr>\n",
       "  </thead>\n",
       "  <tbody>\n",
       "    <tr>\n",
       "      <th>0</th>\n",
       "      <td>28.0</td>\n",
       "      <td>5.0</td>\n",
       "      <td>26</td>\n",
       "      <td>21.5</td>\n",
       "      <td>12</td>\n",
       "      <td>NaN</td>\n",
       "      <td>E10</td>\n",
       "      <td>0</td>\n",
       "      <td>0</td>\n",
       "      <td>0</td>\n",
       "      <td>45.0</td>\n",
       "      <td>E10</td>\n",
       "    </tr>\n",
       "    <tr>\n",
       "      <th>1</th>\n",
       "      <td>12.0</td>\n",
       "      <td>4.2</td>\n",
       "      <td>30</td>\n",
       "      <td>21.5</td>\n",
       "      <td>13</td>\n",
       "      <td>NaN</td>\n",
       "      <td>E10</td>\n",
       "      <td>0</td>\n",
       "      <td>0</td>\n",
       "      <td>0</td>\n",
       "      <td>NaN</td>\n",
       "      <td>NaN</td>\n",
       "    </tr>\n",
       "    <tr>\n",
       "      <th>2</th>\n",
       "      <td>11.2</td>\n",
       "      <td>5.5</td>\n",
       "      <td>38</td>\n",
       "      <td>21.5</td>\n",
       "      <td>15</td>\n",
       "      <td>NaN</td>\n",
       "      <td>E10</td>\n",
       "      <td>0</td>\n",
       "      <td>0</td>\n",
       "      <td>0</td>\n",
       "      <td>NaN</td>\n",
       "      <td>NaN</td>\n",
       "    </tr>\n",
       "    <tr>\n",
       "      <th>3</th>\n",
       "      <td>12.9</td>\n",
       "      <td>3.9</td>\n",
       "      <td>36</td>\n",
       "      <td>21.5</td>\n",
       "      <td>14</td>\n",
       "      <td>NaN</td>\n",
       "      <td>E10</td>\n",
       "      <td>0</td>\n",
       "      <td>0</td>\n",
       "      <td>0</td>\n",
       "      <td>NaN</td>\n",
       "      <td>NaN</td>\n",
       "    </tr>\n",
       "    <tr>\n",
       "      <th>4</th>\n",
       "      <td>18.5</td>\n",
       "      <td>4.5</td>\n",
       "      <td>46</td>\n",
       "      <td>21.5</td>\n",
       "      <td>15</td>\n",
       "      <td>NaN</td>\n",
       "      <td>E10</td>\n",
       "      <td>0</td>\n",
       "      <td>0</td>\n",
       "      <td>0</td>\n",
       "      <td>NaN</td>\n",
       "      <td>NaN</td>\n",
       "    </tr>\n",
       "  </tbody>\n",
       "</table>\n",
       "</div>"
      ],
      "text/plain": [
       "   distance  consume  speed  temp_inside  temp_outside specials gas_type  AC  \\\n",
       "0      28.0      5.0     26         21.5            12      NaN      E10   0   \n",
       "1      12.0      4.2     30         21.5            13      NaN      E10   0   \n",
       "2      11.2      5.5     38         21.5            15      NaN      E10   0   \n",
       "3      12.9      3.9     36         21.5            14      NaN      E10   0   \n",
       "4      18.5      4.5     46         21.5            15      NaN      E10   0   \n",
       "\n",
       "   rain  sun  refill liters refill gas  \n",
       "0     0    0           45.0        E10  \n",
       "1     0    0            NaN        NaN  \n",
       "2     0    0            NaN        NaN  \n",
       "3     0    0            NaN        NaN  \n",
       "4     0    0            NaN        NaN  "
      ]
     },
     "execution_count": 54,
     "metadata": {},
     "output_type": "execute_result"
    }
   ],
   "source": [
    "# get to know the dataset\n",
    "df = pd.read_csv('dataset/measurements.csv', decimal = ',')\n",
    "df.head()"
   ]
  },
  {
   "cell_type": "code",
   "execution_count": 55,
   "id": "valued-mission",
   "metadata": {},
   "outputs": [
    {
     "name": "stdout",
     "output_type": "stream",
     "text": [
      "<class 'pandas.core.frame.DataFrame'>\n",
      "RangeIndex: 388 entries, 0 to 387\n",
      "Data columns (total 12 columns):\n",
      " #   Column         Non-Null Count  Dtype  \n",
      "---  ------         --------------  -----  \n",
      " 0   distance       388 non-null    float64\n",
      " 1   consume        388 non-null    float64\n",
      " 2   speed          388 non-null    int64  \n",
      " 3   temp_inside    376 non-null    float64\n",
      " 4   temp_outside   388 non-null    int64  \n",
      " 5   specials       93 non-null     object \n",
      " 6   gas_type       388 non-null    object \n",
      " 7   AC             388 non-null    int64  \n",
      " 8   rain           388 non-null    int64  \n",
      " 9   sun            388 non-null    int64  \n",
      " 10  refill liters  13 non-null     float64\n",
      " 11  refill gas     13 non-null     object \n",
      "dtypes: float64(4), int64(5), object(3)\n",
      "memory usage: 36.5+ KB\n"
     ]
    }
   ],
   "source": [
    "df.info()"
   ]
  },
  {
   "cell_type": "markdown",
   "id": "charming-favorite",
   "metadata": {},
   "source": [
    "We find a 12 column dataset, with 387 rows. Each row give us information about one different trip, including distance, consume, average speed, temperature inside, temperature outside, special data (about weather), the gas type used, if the air conditioner was on/off, if it was raining or sunny, and  the refilled of gas\n",
    "\n",
    "Columns \"refill liters\" and \"refill gas\", and \"specials\" have a wide range of NAN values\n"
   ]
  },
  {
   "cell_type": "markdown",
   "id": "dutch-simon",
   "metadata": {},
   "source": [
    "## Distance"
   ]
  },
  {
   "cell_type": "code",
   "execution_count": 56,
   "id": "champion-softball",
   "metadata": {},
   "outputs": [],
   "source": [
    "# check info\n",
    "distance_sorted = sorted(df.distance.unique())"
   ]
  },
  {
   "cell_type": "code",
   "execution_count": 57,
   "id": "cubic-simple",
   "metadata": {},
   "outputs": [
    {
     "name": "stdout",
     "output_type": "stream",
     "text": [
      "nans =  0\n"
     ]
    }
   ],
   "source": [
    "# to float\n",
    "df.distance = pd.to_numeric(df.distance)\n",
    "# check nans after convert to float\n",
    "print('nans = ', df.distance.isna().sum())"
   ]
  },
  {
   "cell_type": "markdown",
   "id": "conditional-mason",
   "metadata": {},
   "source": [
    "## Consume"
   ]
  },
  {
   "cell_type": "code",
   "execution_count": 58,
   "id": "remarkable-electricity",
   "metadata": {},
   "outputs": [],
   "source": [
    "consume_sorted = sorted(df.consume.unique())"
   ]
  },
  {
   "cell_type": "markdown",
   "id": "mobile-pioneer",
   "metadata": {},
   "source": [
    "## Average speed in km/h"
   ]
  },
  {
   "cell_type": "code",
   "execution_count": 59,
   "id": "choice-malaysia",
   "metadata": {},
   "outputs": [],
   "source": [
    "speed_sorted = sorted(df.speed.unique())"
   ]
  },
  {
   "cell_type": "markdown",
   "id": "attached-monroe",
   "metadata": {},
   "source": [
    "## Temperature inside the car"
   ]
  },
  {
   "cell_type": "code",
   "execution_count": 60,
   "id": "defensive-representation",
   "metadata": {},
   "outputs": [
    {
     "name": "stdout",
     "output_type": "stream",
     "text": [
      "Have found 12 empty values in this serie\n"
     ]
    }
   ],
   "source": [
    "temp_inside_sorted = sorted(df.temp_inside.unique())\n",
    "print('Have found', df.temp_inside.isna().sum(), 'empty values in this serie')"
   ]
  },
  {
   "cell_type": "code",
   "execution_count": 61,
   "id": "micro-grant",
   "metadata": {},
   "outputs": [
    {
     "name": "stdout",
     "output_type": "stream",
     "text": [
      "21.5    133\n",
      "22.0    102\n",
      "22.5     59\n",
      "20.0     25\n",
      "21.0     13\n",
      "23.0     13\n",
      "25.0     12\n",
      "24.5      7\n",
      "20.5      4\n",
      "24.0      3\n",
      "25.5      2\n",
      "23.5      2\n",
      "19.0      1\n",
      "Name: temp_inside, dtype: int64\n"
     ]
    }
   ],
   "source": [
    "print(df.temp_inside.value_counts())"
   ]
  },
  {
   "cell_type": "code",
   "execution_count": 62,
   "id": "advanced-inquiry",
   "metadata": {},
   "outputs": [
    {
     "name": "stdout",
     "output_type": "stream",
     "text": [
      "0.03\n"
     ]
    }
   ],
   "source": [
    "# 3% of our data are null, so we decided to replace it for the average temperature\n",
    "print(round((df.temp_inside.isna().sum())/(df.shape[0]), 2 ))"
   ]
  },
  {
   "cell_type": "code",
   "execution_count": 63,
   "id": "excessive-overhead",
   "metadata": {},
   "outputs": [],
   "source": [
    "mean_temp = round(df.temp_inside.mean(), 2) \n",
    "df.temp_inside.fillna(mean_temp, inplace = True)"
   ]
  },
  {
   "cell_type": "code",
   "execution_count": 64,
   "id": "pursuant-sharing",
   "metadata": {},
   "outputs": [
    {
     "data": {
      "text/plain": [
       "0"
      ]
     },
     "execution_count": 64,
     "metadata": {},
     "output_type": "execute_result"
    }
   ],
   "source": [
    "df.temp_inside.isna().sum()"
   ]
  },
  {
   "cell_type": "markdown",
   "id": "centered-serial",
   "metadata": {},
   "source": [
    "## Temperature outside"
   ]
  },
  {
   "cell_type": "code",
   "execution_count": 65,
   "id": "lucky-nelson",
   "metadata": {},
   "outputs": [
    {
     "data": {
      "text/plain": [
       "array([12, 13, 15, 14, 10, 11,  6,  4,  9,  0,  5,  3,  8,  1,  2,  7, -3,\n",
       "       17, 18, -5, 16, 19, 21, 20, 25, 23, 27, 24, 26, 22, 30, 31, 28])"
      ]
     },
     "execution_count": 65,
     "metadata": {},
     "output_type": "execute_result"
    }
   ],
   "source": [
    "df.temp_outside.unique()"
   ]
  },
  {
   "cell_type": "markdown",
   "id": "pressed-tractor",
   "metadata": {},
   "source": [
    "## Specials"
   ]
  },
  {
   "cell_type": "code",
   "execution_count": 66,
   "id": "matched-variety",
   "metadata": {},
   "outputs": [
    {
     "data": {
      "text/plain": [
       "array([nan, 'AC rain', 'AC', 'rain', 'snow', 'AC snow',\n",
       "       'half rain half sun', 'sun', 'AC sun', 'sun ac', 'ac', 'AC Sun',\n",
       "       'ac rain'], dtype=object)"
      ]
     },
     "execution_count": 66,
     "metadata": {},
     "output_type": "execute_result"
    }
   ],
   "source": [
    "df.specials.unique()"
   ]
  },
  {
   "cell_type": "code",
   "execution_count": 67,
   "id": "apparent-nepal",
   "metadata": {},
   "outputs": [
    {
     "name": "stdout",
     "output_type": "stream",
     "text": [
      "0.76\n"
     ]
    }
   ],
   "source": [
    "print(round((df.specials.isna().sum())/(df.shape[0]), 2 ))"
   ]
  },
  {
   "cell_type": "markdown",
   "id": "prospective-applicant",
   "metadata": {},
   "source": [
    "Specials column doesn't give us relevant information, and the 76% of values are nulls, so we decided to drop it"
   ]
  },
  {
   "cell_type": "markdown",
   "id": "silver-religious",
   "metadata": {},
   "source": [
    "## Gas Type"
   ]
  },
  {
   "cell_type": "code",
   "execution_count": 68,
   "id": "referenced-ready",
   "metadata": {},
   "outputs": [
    {
     "data": {
      "text/plain": [
       "array(['E10', 'SP98'], dtype=object)"
      ]
     },
     "execution_count": 68,
     "metadata": {},
     "output_type": "execute_result"
    }
   ],
   "source": [
    "df.gas_type.unique()"
   ]
  },
  {
   "cell_type": "markdown",
   "id": "attended-calibration",
   "metadata": {},
   "source": [
    "## Air Conditionair"
   ]
  },
  {
   "cell_type": "code",
   "execution_count": 69,
   "id": "fossil-crossing",
   "metadata": {},
   "outputs": [
    {
     "data": {
      "text/plain": [
       "array([0, 1])"
      ]
     },
     "execution_count": 69,
     "metadata": {},
     "output_type": "execute_result"
    }
   ],
   "source": [
    "df.AC.unique()"
   ]
  },
  {
   "cell_type": "markdown",
   "id": "unsigned-variation",
   "metadata": {},
   "source": [
    "## Rain"
   ]
  },
  {
   "cell_type": "code",
   "execution_count": 70,
   "id": "residential-crossing",
   "metadata": {},
   "outputs": [
    {
     "data": {
      "text/plain": [
       "array([0, 1])"
      ]
     },
     "execution_count": 70,
     "metadata": {},
     "output_type": "execute_result"
    }
   ],
   "source": [
    "df.rain.unique()"
   ]
  },
  {
   "cell_type": "markdown",
   "id": "intensive-marker",
   "metadata": {},
   "source": [
    "## Sun"
   ]
  },
  {
   "cell_type": "code",
   "execution_count": 71,
   "id": "spoken-saskatchewan",
   "metadata": {},
   "outputs": [
    {
     "data": {
      "text/plain": [
       "array([0, 1])"
      ]
     },
     "execution_count": 71,
     "metadata": {},
     "output_type": "execute_result"
    }
   ],
   "source": [
    "df.sun.unique()"
   ]
  },
  {
   "cell_type": "markdown",
   "id": "opponent-anxiety",
   "metadata": {},
   "source": [
    "## Refill liters"
   ]
  },
  {
   "cell_type": "code",
   "execution_count": 72,
   "id": "stone-tamil",
   "metadata": {},
   "outputs": [
    {
     "data": {
      "text/plain": [
       "array([45. ,  nan, 37.6, 37.7, 38. , 38.3, 10. , 39. , 41. , 37. , 37.2])"
      ]
     },
     "execution_count": 72,
     "metadata": {},
     "output_type": "execute_result"
    }
   ],
   "source": [
    "df['refill liters'].unique()"
   ]
  },
  {
   "cell_type": "code",
   "execution_count": 73,
   "id": "searching-martin",
   "metadata": {},
   "outputs": [
    {
     "name": "stdout",
     "output_type": "stream",
     "text": [
      "0.97\n"
     ]
    }
   ],
   "source": [
    "print(round((df['refill liters'].isna().sum())/(df.shape[0]), 2 ))"
   ]
  },
  {
   "cell_type": "markdown",
   "id": "angry-shakespeare",
   "metadata": {},
   "source": [
    "## Refill gas "
   ]
  },
  {
   "cell_type": "code",
   "execution_count": 74,
   "id": "spectacular-margin",
   "metadata": {},
   "outputs": [
    {
     "data": {
      "text/plain": [
       "array(['E10', nan, 'SP98'], dtype=object)"
      ]
     },
     "execution_count": 74,
     "metadata": {},
     "output_type": "execute_result"
    }
   ],
   "source": [
    "df['refill gas'].unique()"
   ]
  },
  {
   "cell_type": "code",
   "execution_count": 75,
   "id": "herbal-evening",
   "metadata": {},
   "outputs": [
    {
     "name": "stdout",
     "output_type": "stream",
     "text": [
      "0.97\n"
     ]
    }
   ],
   "source": [
    "print(round((df['refill gas'].isna().sum())/(df.shape[0]), 2 ))"
   ]
  },
  {
   "cell_type": "code",
   "execution_count": 76,
   "id": "material-trading",
   "metadata": {},
   "outputs": [],
   "source": [
    "# 97% of values in refill liters and refill gas are empty values\n",
    "# We decided to drop \"refill liters\" and \"refill gas\" columns, as well as \"specials\"\n",
    "df = df.drop(columns = ['specials', 'refill gas', 'refill liters'])"
   ]
  },
  {
   "cell_type": "code",
   "execution_count": null,
   "id": "ambient-solid",
   "metadata": {},
   "outputs": [],
   "source": []
  },
  {
   "cell_type": "code",
   "execution_count": null,
   "id": "aerial-recognition",
   "metadata": {},
   "outputs": [],
   "source": []
  }
 ],
 "metadata": {
  "kernelspec": {
   "display_name": "Python 3",
   "language": "python",
   "name": "python3"
  },
  "language_info": {
   "codemirror_mode": {
    "name": "ipython",
    "version": 3
   },
   "file_extension": ".py",
   "mimetype": "text/x-python",
   "name": "python",
   "nbconvert_exporter": "python",
   "pygments_lexer": "ipython3",
   "version": "3.8.2"
  }
 },
 "nbformat": 4,
 "nbformat_minor": 5
}
