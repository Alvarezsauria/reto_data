{
 "cells": [
  {
   "cell_type": "code",
   "execution_count": 32,
   "id": "prescription-migration",
   "metadata": {},
   "outputs": [],
   "source": [
    "# Importing libraries\n",
    "import pandas as pd\n",
    "import numpy as np\n",
    "\n",
    "from sklearn.model_selection import train_test_split\n",
    "\n",
    "from sklearn.linear_model import Ridge, Lasso\n",
    "from sklearn.linear_model import SGDRegressor\n",
    "from sklearn.neighbors import KNeighborsRegressor\n",
    "from sklearn.ensemble import GradientBoostingRegressor\n",
    "from sklearn.tree import DecisionTreeRegressor \n",
    "from sklearn.ensemble import RandomForestRegressor\n",
    "from sklearn.linear_model import LinearRegression\n",
    "\n",
    "from sklearn import metrics\n",
    "from sklearn.metrics import r2_score, mean_absolute_error, mean_squared_error, mean_squared_log_error\n",
    "\n",
    "from sklearn.model_selection import GridSearchCV\n",
    "\n",
    "import matplotlib.pyplot as plt\n",
    "import seaborn as sns"
   ]
  },
  {
   "cell_type": "code",
   "execution_count": 19,
   "id": "strange-dimension",
   "metadata": {},
   "outputs": [],
   "source": [
    "# reading the enriched csv\n",
    "df = pd.read_csv('df_rich.csv')\n",
    "\n",
    "# we have a categorical column (gas_type) but we had already categorilized it on the column \"gas_type_coded\"\n",
    "# E10 = 0 /// SP98 = 1\n",
    "df = df.drop(['gas_type'], axis = 1)"
   ]
  },
  {
   "cell_type": "code",
   "execution_count": 20,
   "id": "contemporary-mercy",
   "metadata": {},
   "outputs": [],
   "source": [
    "# split dataset in X and y for supervised learning\n",
    "X = df.drop(['consume'], axis = 1)\n",
    "y = df.consume"
   ]
  },
  {
   "cell_type": "code",
   "execution_count": 21,
   "id": "final-seventh",
   "metadata": {},
   "outputs": [],
   "source": [
    "# split dataset in train and test\n",
    "X_train, X_test, y_train, y_test = train_test_split(X, y, test_size = 0.2)"
   ]
  },
  {
   "cell_type": "code",
   "execution_count": 22,
   "id": "political-minority",
   "metadata": {},
   "outputs": [
    {
     "name": "stdout",
     "output_type": "stream",
     "text": [
      "X_train shape is: (310, 14)\n",
      "y_train shape is: (310,)\n",
      "X_test shape is: (78, 14)\n",
      "y_test shape is: (78,)\n"
     ]
    }
   ],
   "source": [
    "# checking the split has been done correctly\n",
    "print(f'X_train shape is:', X_train.shape)\n",
    "print(f'y_train shape is:', y_train.shape)\n",
    "print(f'X_test shape is:', X_test.shape)\n",
    "print(f'y_test shape is:', y_test.shape)"
   ]
  },
  {
   "cell_type": "code",
   "execution_count": 55,
   "id": "increasing-management",
   "metadata": {},
   "outputs": [],
   "source": [
    "# we decided to use different models\n",
    "models = {\"linear\": LinearRegression(),\n",
    "          \"ridge\": Ridge(),\n",
    "          \"lasso\": Lasso(),\n",
    "          \"knn\": KNeighborsRegressor(),\n",
    "          \"gradient\": GradientBoostingRegressor(),\n",
    "          \"tree\": DecisionTreeRegressor(),\n",
    "          \"forest\": RandomForestRegressor()}"
   ]
  },
  {
   "cell_type": "code",
   "execution_count": 56,
   "id": "smoking-dating",
   "metadata": {},
   "outputs": [
    {
     "name": "stdout",
     "output_type": "stream",
     "text": [
      "--linear--\n",
      "MAE: 0.6993086614182854\n",
      "MSE: 1.0192291365581876\n",
      "RMSE: 1.0095687874326285\n",
      "R2: 0.07208035296916637\n",
      "--ridge--\n",
      "MAE: 0.6943848485711954\n",
      "MSE: 1.007533810386333\n",
      "RMSE: 1.0037598370060106\n",
      "R2: 0.08272793214841212\n",
      "--lasso--\n",
      "MAE: 0.6128975634381532\n",
      "MSE: 0.9472299045868081\n",
      "RMSE: 0.97325736811329\n",
      "R2: 0.13762940324747863\n",
      "--knn--\n",
      "MAE: 0.47743589743589754\n",
      "MSE: 0.48078974358974363\n",
      "RMSE: 0.693390037128991\n",
      "R2: 0.5622826770098224\n",
      "--gradient--\n",
      "MAE: 0.5417056684017252\n",
      "MSE: 0.8872761324368232\n",
      "RMSE: 0.9419533600114303\n",
      "R2: 0.1922121080546081\n",
      "--tree--\n",
      "MAE: 0.6397435897435897\n",
      "MSE: 1.1629487179487181\n",
      "RMSE: 1.078401000532139\n",
      "R2: -0.058763849234139576\n",
      "--forest--\n",
      "MAE: 0.45083653846153876\n",
      "MSE: 0.5574143512784904\n",
      "RMSE: 0.7466018693242673\n",
      "R2: 0.4925226236811676\n"
     ]
    }
   ],
   "source": [
    "# we fit our models and get the metrics for each one\n",
    "for name, model in models.items():\n",
    "    print(f\"--{name}--\")\n",
    "    model.fit(X_train,y_train)\n",
    "    y_pred = model.predict(X_test)\n",
    "    print(\"MAE:\", metrics.mean_absolute_error(y_test, y_pred))\n",
    "    print(\"MSE:\", metrics.mean_squared_error(y_test,y_pred))\n",
    "    print(\"RMSE:\", np.sqrt(metrics.mean_squared_error(y_test,y_pred)))\n",
    "    print(\"R2:\", metrics.r2_score(y_test,y_pred))"
   ]
  },
  {
   "cell_type": "markdown",
   "id": "comfortable-hydrogen",
   "metadata": {},
   "source": [
    "# Ridge model\n",
    "\n",
    "### This model presents a very high fit with a R squared really near to 1 (0,998) and mean errors (MAE, MSE, RMSE) tending to zero"
   ]
  },
  {
   "cell_type": "code",
   "execution_count": 43,
   "id": "unusual-convert",
   "metadata": {},
   "outputs": [
    {
     "data": {
      "text/html": [
       "<div>\n",
       "<style scoped>\n",
       "    .dataframe tbody tr th:only-of-type {\n",
       "        vertical-align: middle;\n",
       "    }\n",
       "\n",
       "    .dataframe tbody tr th {\n",
       "        vertical-align: top;\n",
       "    }\n",
       "\n",
       "    .dataframe thead th {\n",
       "        text-align: right;\n",
       "    }\n",
       "</style>\n",
       "<table border=\"1\" class=\"dataframe\">\n",
       "  <thead>\n",
       "    <tr style=\"text-align: right;\">\n",
       "      <th></th>\n",
       "      <th>gas_type</th>\n",
       "      <th>consume_real</th>\n",
       "      <th>consume_predicted</th>\n",
       "    </tr>\n",
       "  </thead>\n",
       "  <tbody>\n",
       "    <tr>\n",
       "      <th>216</th>\n",
       "      <td>SP98</td>\n",
       "      <td>4.1</td>\n",
       "      <td>4.100</td>\n",
       "    </tr>\n",
       "    <tr>\n",
       "      <th>210</th>\n",
       "      <td>SP98</td>\n",
       "      <td>11.5</td>\n",
       "      <td>10.518</td>\n",
       "    </tr>\n",
       "    <tr>\n",
       "      <th>6</th>\n",
       "      <td>E10</td>\n",
       "      <td>4.4</td>\n",
       "      <td>4.397</td>\n",
       "    </tr>\n",
       "    <tr>\n",
       "      <th>239</th>\n",
       "      <td>E10</td>\n",
       "      <td>4.5</td>\n",
       "      <td>4.497</td>\n",
       "    </tr>\n",
       "    <tr>\n",
       "      <th>266</th>\n",
       "      <td>E10</td>\n",
       "      <td>4.0</td>\n",
       "      <td>3.976</td>\n",
       "    </tr>\n",
       "  </tbody>\n",
       "</table>\n",
       "</div>"
      ],
      "text/plain": [
       "    gas_type  consume_real  consume_predicted\n",
       "216     SP98           4.1              4.100\n",
       "210     SP98          11.5             10.518\n",
       "6        E10           4.4              4.397\n",
       "239      E10           4.5              4.497\n",
       "266      E10           4.0              3.976"
      ]
     },
     "execution_count": 43,
     "metadata": {},
     "output_type": "execute_result"
    }
   ],
   "source": [
    "# Training the model again independently, in order to get a dataframe to plot\n",
    "ridge = Ridge()\n",
    "ridge = ridge.fit(X_train, y_train)\n",
    "y_pred = model.predict(X_test)\n",
    "\n",
    "ridge_df = pd.DataFrame({'gas_type':X_test['gas_type_coded'].apply(lambda x: 'E10' if x == 0 else 'SP98'),\n",
    "                         'consume_real':y_test,\n",
    "                         'consume_predicted': y_pred})\n",
    "ridge_df.head()"
   ]
  },
  {
   "cell_type": "code",
   "execution_count": 53,
   "id": "confirmed-seminar",
   "metadata": {},
   "outputs": [
    {
     "data": {
      "image/png": "[encoded data removed]",
      "text/plain": [
       "<Figure size 864x576 with 1 Axes>"
      ]
     },
     "metadata": {
      "needs_background": "light"
     },
     "output_type": "display_data"
    }
   ],
   "source": [
    "plt.figure(figsize = (12, 8))\n",
    "ridge_plot = sns.regplot(x = ridge_df.consume_real,\n",
    "            y = ridge_df.consume_predicted,\n",
    "           color = 'g',\n",
    "           marker = 'x')\n",
    "\n",
    "ridge_plot.set(xlabel = 'Real', \n",
    "               ylabel = 'Predicted',\n",
    "               title = 'Ridge model fit: real vs predicted');\n",
    "plt.show()"
   ]
  },
  {
   "cell_type": "markdown",
   "id": "regulated-offering",
   "metadata": {},
   "source": [
    "### As Ridge regression is a method of estimating the coefficients of multiple-regression models in scenarios where independent variables are highly correlated, we would like to check if it is so fitted because of the enrichment of the dataset. \n",
    "\n",
    "So we are replicating the previous code with the clean (but not enriched) dataset"
   ]
  },
  {
   "cell_type": "code",
   "execution_count": 57,
   "id": "frequent-philadelphia",
   "metadata": {},
   "outputs": [
    {
     "name": "stdout",
     "output_type": "stream",
     "text": [
      "--linear--\n",
      "MAE: 0.7114846314477926\n",
      "MSE: 1.3281897332958497\n",
      "RMSE: 1.1524711420664076\n",
      "R2: 0.11781140965650594\n",
      "--ridge--\n",
      "MAE: 0.7100041502464125\n",
      "MSE: 1.3235873900979693\n",
      "RMSE: 1.1504726811610824\n",
      "R2: 0.12086830322843567\n",
      "--lasso--\n",
      "MAE: 0.6873340825740553\n",
      "MSE: 1.3497063244987073\n",
      "RMSE: 1.1617686191745358\n",
      "R2: 0.10352000927416449\n",
      "--knn--\n",
      "MAE: 0.5148717948717949\n",
      "MSE: 0.598205128205128\n",
      "RMSE: 0.7734372167184147\n",
      "R2: 0.6026699156317141\n",
      "--gradient--\n",
      "MAE: 0.4871859113345333\n",
      "MSE: 0.6263100529718801\n",
      "RMSE: 0.7913975315679725\n",
      "R2: 0.5840025194456542\n",
      "--tree--\n",
      "MAE: 0.6974358974358973\n",
      "MSE: 1.7035897435897431\n",
      "RMSE: 1.305216358918989\n",
      "R2: -0.13153068175863325\n",
      "--forest--\n",
      "MAE: 0.48776111111111053\n",
      "MSE: 0.6044432926068368\n",
      "RMSE: 0.7774595118762371\n",
      "R2: 0.5985265034956947\n"
     ]
    }
   ],
   "source": [
    "# reading the clean csv (not enriched yet)\n",
    "df = pd.read_csv('df_clean.csv')\n",
    "\n",
    "# we have a categorical column (gas_type) but we had already categorilized it on the column \"gas_type_coded\"\n",
    "# E10 = 0 /// SP98 = 1\n",
    "df = df.drop(['gas_type'], axis = 1)\n",
    "\n",
    "# split dataset in X and y for supervised learning\n",
    "X = df.drop(['consume'], axis = 1)\n",
    "y = df.consume\n",
    "\n",
    "# split dataset in train and test\n",
    "X_train, X_test, y_train, y_test = train_test_split(X, y, test_size = 0.2)\n",
    "\n",
    "# we decided to use different models\n",
    "models = {\"linear\": LinearRegression(),\n",
    "          \"ridge\": Ridge(),\n",
    "          \"lasso\": Lasso(),\n",
    "          \"knn\": KNeighborsRegressor(),\n",
    "          \"gradient\": GradientBoostingRegressor(),\n",
    "          \"tree\": DecisionTreeRegressor(),\n",
    "          \"forest\": RandomForestRegressor()}\n",
    "\n",
    "# we fit our models and get the metrics for each one\n",
    "for name, model in models.items():\n",
    "    print(f\"--{name}--\")\n",
    "    model.fit(X_train,y_train)\n",
    "    y_pred = model.predict(X_test)\n",
    "    print(\"MAE:\", metrics.mean_absolute_error(y_test, y_pred))\n",
    "    print(\"MSE:\", metrics.mean_squared_error(y_test,y_pred))\n",
    "    print(\"RMSE:\", np.sqrt(metrics.mean_squared_error(y_test,y_pred)))\n",
    "    print(\"R2:\", metrics.r2_score(y_test,y_pred))"
   ]
  },
  {
   "cell_type": "code",
   "execution_count": null,
   "id": "chubby-orange",
   "metadata": {},
   "outputs": [],
   "source": []
  }
 ],
 "metadata": {
  "kernelspec": {
   "display_name": "Python 3",
   "language": "python",
   "name": "python3"
  },
  "language_info": {
   "codemirror_mode": {
    "name": "ipython",
    "version": 3
   },
   "file_extension": ".py",
   "mimetype": "text/x-python",
   "name": "python",
   "nbconvert_exporter": "python",
   "pygments_lexer": "ipython3",
   "version": "3.8.2"
  }
 },
 "nbformat": 4,
 "nbformat_minor": 5
}
